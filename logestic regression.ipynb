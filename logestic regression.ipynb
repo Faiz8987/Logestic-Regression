{
 "cells": [
  {
   "cell_type": "code",
   "execution_count": 1,
   "id": "4cd2da73",
   "metadata": {},
   "outputs": [],
   "source": [
    "import numpy as np"
   ]
  },
  {
   "cell_type": "code",
   "execution_count": 2,
   "id": "4ce7b7e8",
   "metadata": {},
   "outputs": [],
   "source": [
    "import pandas as pd"
   ]
  },
  {
   "cell_type": "code",
   "execution_count": 3,
   "id": "fca2ca77",
   "metadata": {},
   "outputs": [],
   "source": [
    "import matplotlib.pyplot as plt"
   ]
  },
  {
   "cell_type": "code",
   "execution_count": 4,
   "id": "4ee77349",
   "metadata": {},
   "outputs": [],
   "source": [
    "import seaborn as sns"
   ]
  },
  {
   "cell_type": "code",
   "execution_count": 5,
   "id": "aeb541ce",
   "metadata": {},
   "outputs": [],
   "source": [
    "import sklearn.metrics as metrics"
   ]
  },
  {
   "cell_type": "code",
   "execution_count": 6,
   "id": "0ca4dafd",
   "metadata": {},
   "outputs": [],
   "source": [
    "import warnings\n",
    "warnings.filterwarnings('ignore')"
   ]
  },
  {
   "cell_type": "code",
   "execution_count": 7,
   "id": "1e7ebf4e",
   "metadata": {},
   "outputs": [],
   "source": [
    "dd=pd.read_csv(\"C:\\\\Users\\\\lenovo\\\\Documents\\\\Default.csv\")"
   ]
  },
  {
   "cell_type": "code",
   "execution_count": 8,
   "id": "c6024d69",
   "metadata": {},
   "outputs": [
    {
     "data": {
      "text/html": [
       "<div>\n",
       "<style scoped>\n",
       "    .dataframe tbody tr th:only-of-type {\n",
       "        vertical-align: middle;\n",
       "    }\n",
       "\n",
       "    .dataframe tbody tr th {\n",
       "        vertical-align: top;\n",
       "    }\n",
       "\n",
       "    .dataframe thead th {\n",
       "        text-align: right;\n",
       "    }\n",
       "</style>\n",
       "<table border=\"1\" class=\"dataframe\">\n",
       "  <thead>\n",
       "    <tr style=\"text-align: right;\">\n",
       "      <th></th>\n",
       "      <th>num</th>\n",
       "      <th>default</th>\n",
       "      <th>student</th>\n",
       "      <th>balance</th>\n",
       "      <th>income</th>\n",
       "    </tr>\n",
       "  </thead>\n",
       "  <tbody>\n",
       "    <tr>\n",
       "      <th>0</th>\n",
       "      <td>1</td>\n",
       "      <td>No</td>\n",
       "      <td>No</td>\n",
       "      <td>729.526495</td>\n",
       "      <td>44361.62507</td>\n",
       "    </tr>\n",
       "    <tr>\n",
       "      <th>1</th>\n",
       "      <td>2</td>\n",
       "      <td>No</td>\n",
       "      <td>Yes</td>\n",
       "      <td>817.180407</td>\n",
       "      <td>12106.13470</td>\n",
       "    </tr>\n",
       "    <tr>\n",
       "      <th>2</th>\n",
       "      <td>3</td>\n",
       "      <td>No</td>\n",
       "      <td>No</td>\n",
       "      <td>1073.549164</td>\n",
       "      <td>31767.13895</td>\n",
       "    </tr>\n",
       "    <tr>\n",
       "      <th>3</th>\n",
       "      <td>4</td>\n",
       "      <td>No</td>\n",
       "      <td>No</td>\n",
       "      <td>529.250605</td>\n",
       "      <td>35704.49394</td>\n",
       "    </tr>\n",
       "    <tr>\n",
       "      <th>4</th>\n",
       "      <td>5</td>\n",
       "      <td>No</td>\n",
       "      <td>No</td>\n",
       "      <td>785.655883</td>\n",
       "      <td>38463.49588</td>\n",
       "    </tr>\n",
       "  </tbody>\n",
       "</table>\n",
       "</div>"
      ],
      "text/plain": [
       "   num default student      balance       income\n",
       "0    1      No      No   729.526495  44361.62507\n",
       "1    2      No     Yes   817.180407  12106.13470\n",
       "2    3      No      No  1073.549164  31767.13895\n",
       "3    4      No      No   529.250605  35704.49394\n",
       "4    5      No      No   785.655883  38463.49588"
      ]
     },
     "execution_count": 8,
     "metadata": {},
     "output_type": "execute_result"
    }
   ],
   "source": [
    "dd.head()"
   ]
  },
  {
   "cell_type": "code",
   "execution_count": 9,
   "id": "b2b2eb67",
   "metadata": {},
   "outputs": [
    {
     "data": {
      "text/plain": [
       "(10000, 5)"
      ]
     },
     "execution_count": 9,
     "metadata": {},
     "output_type": "execute_result"
    }
   ],
   "source": [
    "dd.shape"
   ]
  },
  {
   "cell_type": "code",
   "execution_count": 10,
   "id": "45f413bd",
   "metadata": {},
   "outputs": [
    {
     "data": {
      "text/html": [
       "<div>\n",
       "<style scoped>\n",
       "    .dataframe tbody tr th:only-of-type {\n",
       "        vertical-align: middle;\n",
       "    }\n",
       "\n",
       "    .dataframe tbody tr th {\n",
       "        vertical-align: top;\n",
       "    }\n",
       "\n",
       "    .dataframe thead th {\n",
       "        text-align: right;\n",
       "    }\n",
       "</style>\n",
       "<table border=\"1\" class=\"dataframe\">\n",
       "  <thead>\n",
       "    <tr style=\"text-align: right;\">\n",
       "      <th></th>\n",
       "      <th>num</th>\n",
       "      <th>balance</th>\n",
       "      <th>income</th>\n",
       "    </tr>\n",
       "  </thead>\n",
       "  <tbody>\n",
       "    <tr>\n",
       "      <th>count</th>\n",
       "      <td>10000.00000</td>\n",
       "      <td>10000.000000</td>\n",
       "      <td>10000.000000</td>\n",
       "    </tr>\n",
       "    <tr>\n",
       "      <th>mean</th>\n",
       "      <td>5000.50000</td>\n",
       "      <td>835.374886</td>\n",
       "      <td>33516.981876</td>\n",
       "    </tr>\n",
       "    <tr>\n",
       "      <th>std</th>\n",
       "      <td>2886.89568</td>\n",
       "      <td>483.714985</td>\n",
       "      <td>13336.639563</td>\n",
       "    </tr>\n",
       "    <tr>\n",
       "      <th>min</th>\n",
       "      <td>1.00000</td>\n",
       "      <td>0.000000</td>\n",
       "      <td>771.967729</td>\n",
       "    </tr>\n",
       "    <tr>\n",
       "      <th>25%</th>\n",
       "      <td>2500.75000</td>\n",
       "      <td>481.731105</td>\n",
       "      <td>21340.462905</td>\n",
       "    </tr>\n",
       "    <tr>\n",
       "      <th>50%</th>\n",
       "      <td>5000.50000</td>\n",
       "      <td>823.636973</td>\n",
       "      <td>34552.644800</td>\n",
       "    </tr>\n",
       "    <tr>\n",
       "      <th>75%</th>\n",
       "      <td>7500.25000</td>\n",
       "      <td>1166.308387</td>\n",
       "      <td>43807.729275</td>\n",
       "    </tr>\n",
       "    <tr>\n",
       "      <th>max</th>\n",
       "      <td>10000.00000</td>\n",
       "      <td>2654.322576</td>\n",
       "      <td>73554.233500</td>\n",
       "    </tr>\n",
       "  </tbody>\n",
       "</table>\n",
       "</div>"
      ],
      "text/plain": [
       "               num       balance        income\n",
       "count  10000.00000  10000.000000  10000.000000\n",
       "mean    5000.50000    835.374886  33516.981876\n",
       "std     2886.89568    483.714985  13336.639563\n",
       "min        1.00000      0.000000    771.967729\n",
       "25%     2500.75000    481.731105  21340.462905\n",
       "50%     5000.50000    823.636973  34552.644800\n",
       "75%     7500.25000   1166.308387  43807.729275\n",
       "max    10000.00000   2654.322576  73554.233500"
      ]
     },
     "execution_count": 10,
     "metadata": {},
     "output_type": "execute_result"
    }
   ],
   "source": [
    "dd.describe()"
   ]
  },
  {
   "cell_type": "code",
   "execution_count": 11,
   "id": "f323fa1a",
   "metadata": {},
   "outputs": [
    {
     "data": {
      "image/png": "[encoded data removed]",
      "text/plain": [
       "<Figure size 1000x1500 with 2 Axes>"
      ]
     },
     "metadata": {},
     "output_type": "display_data"
    }
   ],
   "source": [
    "plt.figure(figsize=(10,15))\n",
    "plt.subplot(1,2,1)\n",
    "sns.boxplot(y=dd['balance'])\n",
    "\n",
    "plt.subplot(1,2,2)\n",
    "sns.boxplot(y=dd['income'])\n",
    "\n",
    "plt.show()"
   ]
  },
  {
   "cell_type": "code",
   "execution_count": 12,
   "id": "8bfd0b68",
   "metadata": {},
   "outputs": [
    {
     "data": {
      "image/png": "[encoded data removed]",
      "text/plain": [
       "<Figure size 1000x1500 with 2 Axes>"
      ]
     },
     "metadata": {},
     "output_type": "display_data"
    }
   ],
   "source": [
    "plt.figure(figsize=(10,15))\n",
    "plt.subplot(1,2,1)\n",
    "sns.countplot(dd['default'])\n",
    "\n",
    "plt.subplot(1,2,2)\n",
    "sns.countplot(dd['student'])\n",
    "plt.show()"
   ]
  },
  {
   "cell_type": "code",
   "execution_count": 13,
   "id": "4ec35c84",
   "metadata": {},
   "outputs": [
    {
     "data": {
      "text/plain": [
       "default\n",
       "No     9667\n",
       "Yes     333\n",
       "dtype: int64"
      ]
     },
     "execution_count": 13,
     "metadata": {},
     "output_type": "execute_result"
    }
   ],
   "source": [
    "dd.value_counts('default')"
   ]
  },
  {
   "cell_type": "code",
   "execution_count": 14,
   "id": "18c4e8fd",
   "metadata": {},
   "outputs": [
    {
     "data": {
      "text/plain": [
       "student\n",
       "No     7056\n",
       "Yes    2944\n",
       "dtype: int64"
      ]
     },
     "execution_count": 14,
     "metadata": {},
     "output_type": "execute_result"
    }
   ],
   "source": [
    "dd.value_counts('student')"
   ]
  },
  {
   "cell_type": "code",
   "execution_count": 15,
   "id": "92a2b241",
   "metadata": {},
   "outputs": [
    {
     "data": {
      "text/plain": [
       "No     0.7056\n",
       "Yes    0.2944\n",
       "Name: student, dtype: float64"
      ]
     },
     "execution_count": 15,
     "metadata": {},
     "output_type": "execute_result"
    }
   ],
   "source": [
    "dd['student'].value_counts(normalize=True)"
   ]
  },
  {
   "cell_type": "code",
   "execution_count": 16,
   "id": "af581e83",
   "metadata": {},
   "outputs": [
    {
     "data": {
      "text/plain": [
       "No     0.9667\n",
       "Yes    0.0333\n",
       "Name: default, dtype: float64"
      ]
     },
     "execution_count": 16,
     "metadata": {},
     "output_type": "execute_result"
    }
   ],
   "source": [
    "dd['default'].value_counts(normalize=True)"
   ]
  },
  {
   "cell_type": "code",
   "execution_count": 17,
   "id": "ff2179bd",
   "metadata": {},
   "outputs": [
    {
     "data": {
      "image/png": "[encoded data removed]",
      "text/plain": [
       "<Figure size 1000x1000 with 2 Axes>"
      ]
     },
     "metadata": {},
     "output_type": "display_data"
    }
   ],
   "source": [
    "plt.figure(figsize=(10,10))\n",
    "plt.subplot(1,2,1)\n",
    "\n",
    "sns.boxplot(dd['default'],dd['income'])\n",
    "\n",
    "plt.subplot(1,2,2)\n",
    "sns.boxplot(x=dd['default'],y=dd['balance'])\n",
    "\n",
    "plt.show()"
   ]
  },
  {
   "cell_type": "code",
   "execution_count": 18,
   "id": "d954822d",
   "metadata": {},
   "outputs": [
    {
     "data": {
      "text/html": [
       "<div>\n",
       "<style scoped>\n",
       "    .dataframe tbody tr th:only-of-type {\n",
       "        vertical-align: middle;\n",
       "    }\n",
       "\n",
       "    .dataframe tbody tr th {\n",
       "        vertical-align: top;\n",
       "    }\n",
       "\n",
       "    .dataframe thead th {\n",
       "        text-align: right;\n",
       "    }\n",
       "</style>\n",
       "<table border=\"1\" class=\"dataframe\">\n",
       "  <thead>\n",
       "    <tr style=\"text-align: right;\">\n",
       "      <th>default</th>\n",
       "      <th>No</th>\n",
       "      <th>Yes</th>\n",
       "    </tr>\n",
       "    <tr>\n",
       "      <th>student</th>\n",
       "      <th></th>\n",
       "      <th></th>\n",
       "    </tr>\n",
       "  </thead>\n",
       "  <tbody>\n",
       "    <tr>\n",
       "      <th>No</th>\n",
       "      <td>0.97</td>\n",
       "      <td>0.03</td>\n",
       "    </tr>\n",
       "    <tr>\n",
       "      <th>Yes</th>\n",
       "      <td>0.96</td>\n",
       "      <td>0.04</td>\n",
       "    </tr>\n",
       "  </tbody>\n",
       "</table>\n",
       "</div>"
      ],
      "text/plain": [
       "default    No   Yes\n",
       "student            \n",
       "No       0.97  0.03\n",
       "Yes      0.96  0.04"
      ]
     },
     "execution_count": 18,
     "metadata": {},
     "output_type": "execute_result"
    }
   ],
   "source": [
    "pd.crosstab(dd['student'],dd['default'],normalize='index').round(2)"
   ]
  },
  {
   "cell_type": "code",
   "execution_count": 19,
   "id": "8ed71391",
   "metadata": {},
   "outputs": [
    {
     "data": {
      "image/png": "[encoded data removed]",
      "text/plain": [
       "<Figure size 640x480 with 2 Axes>"
      ]
     },
     "metadata": {},
     "output_type": "display_data"
    }
   ],
   "source": [
    "sns.heatmap(dd[['balance','income']].corr(),annot=True)\n",
    "plt.show()"
   ]
  },
  {
   "cell_type": "code",
   "execution_count": 20,
   "id": "248c041e",
   "metadata": {},
   "outputs": [
    {
     "data": {
      "text/plain": [
       "num        0\n",
       "default    0\n",
       "student    0\n",
       "balance    0\n",
       "income     0\n",
       "dtype: int64"
      ]
     },
     "execution_count": 20,
     "metadata": {},
     "output_type": "execute_result"
    }
   ],
   "source": [
    "dd.isnull().sum()"
   ]
  },
  {
   "cell_type": "code",
   "execution_count": 21,
   "id": "9fbbdc04",
   "metadata": {},
   "outputs": [],
   "source": [
    "q1,q3=dd['balance'].quantile([.25,.75])"
   ]
  },
  {
   "cell_type": "code",
   "execution_count": 22,
   "id": "776a407d",
   "metadata": {},
   "outputs": [],
   "source": [
    "iqr=q3-q1"
   ]
  },
  {
   "cell_type": "code",
   "execution_count": 23,
   "id": "69290a09",
   "metadata": {},
   "outputs": [],
   "source": [
    "lowerlimit=q1 - 1.5*(iqr)"
   ]
  },
  {
   "cell_type": "code",
   "execution_count": 24,
   "id": "ff4f26dd",
   "metadata": {},
   "outputs": [],
   "source": [
    "uperlimit=q3 + 1.5*(iqr)"
   ]
  },
  {
   "cell_type": "code",
   "execution_count": 25,
   "id": "64306b60",
   "metadata": {},
   "outputs": [
    {
     "data": {
      "text/plain": [
       "-545.1348175"
      ]
     },
     "execution_count": 25,
     "metadata": {},
     "output_type": "execute_result"
    }
   ],
   "source": [
    "lowerlimit"
   ]
  },
  {
   "cell_type": "code",
   "execution_count": 26,
   "id": "3bda233f",
   "metadata": {},
   "outputs": [
    {
     "data": {
      "text/plain": [
       "2193.1743093"
      ]
     },
     "execution_count": 26,
     "metadata": {},
     "output_type": "execute_result"
    }
   ],
   "source": [
    "uperlimit"
   ]
  },
  {
   "cell_type": "code",
   "execution_count": 27,
   "id": "b8a21b85",
   "metadata": {},
   "outputs": [],
   "source": [
    "df=dd[dd['balance']>uperlimit]"
   ]
  },
  {
   "cell_type": "code",
   "execution_count": 28,
   "id": "6c5a06c2",
   "metadata": {},
   "outputs": [
    {
     "data": {
      "text/html": [
       "<div>\n",
       "<style scoped>\n",
       "    .dataframe tbody tr th:only-of-type {\n",
       "        vertical-align: middle;\n",
       "    }\n",
       "\n",
       "    .dataframe tbody tr th {\n",
       "        vertical-align: top;\n",
       "    }\n",
       "\n",
       "    .dataframe thead th {\n",
       "        text-align: right;\n",
       "    }\n",
       "</style>\n",
       "<table border=\"1\" class=\"dataframe\">\n",
       "  <thead>\n",
       "    <tr style=\"text-align: right;\">\n",
       "      <th></th>\n",
       "      <th>num</th>\n",
       "      <th>default</th>\n",
       "      <th>student</th>\n",
       "      <th>balance</th>\n",
       "      <th>income</th>\n",
       "    </tr>\n",
       "  </thead>\n",
       "  <tbody>\n",
       "    <tr>\n",
       "      <th>173</th>\n",
       "      <td>174</td>\n",
       "      <td>Yes</td>\n",
       "      <td>Yes</td>\n",
       "      <td>2205.799521</td>\n",
       "      <td>14271.492250</td>\n",
       "    </tr>\n",
       "    <tr>\n",
       "      <th>1136</th>\n",
       "      <td>1137</td>\n",
       "      <td>Yes</td>\n",
       "      <td>No</td>\n",
       "      <td>2499.016750</td>\n",
       "      <td>51504.293960</td>\n",
       "    </tr>\n",
       "    <tr>\n",
       "      <th>1160</th>\n",
       "      <td>1161</td>\n",
       "      <td>Yes</td>\n",
       "      <td>Yes</td>\n",
       "      <td>2502.684931</td>\n",
       "      <td>14947.519750</td>\n",
       "    </tr>\n",
       "    <tr>\n",
       "      <th>1359</th>\n",
       "      <td>1360</td>\n",
       "      <td>Yes</td>\n",
       "      <td>No</td>\n",
       "      <td>2220.966201</td>\n",
       "      <td>40725.096210</td>\n",
       "    </tr>\n",
       "    <tr>\n",
       "      <th>1502</th>\n",
       "      <td>1503</td>\n",
       "      <td>Yes</td>\n",
       "      <td>Yes</td>\n",
       "      <td>2332.878254</td>\n",
       "      <td>11770.234120</td>\n",
       "    </tr>\n",
       "    <tr>\n",
       "      <th>1609</th>\n",
       "      <td>1610</td>\n",
       "      <td>Yes</td>\n",
       "      <td>Yes</td>\n",
       "      <td>2269.946966</td>\n",
       "      <td>18021.105950</td>\n",
       "    </tr>\n",
       "    <tr>\n",
       "      <th>2096</th>\n",
       "      <td>2097</td>\n",
       "      <td>Yes</td>\n",
       "      <td>Yes</td>\n",
       "      <td>2261.848162</td>\n",
       "      <td>20030.165120</td>\n",
       "    </tr>\n",
       "    <tr>\n",
       "      <th>2140</th>\n",
       "      <td>2141</td>\n",
       "      <td>No</td>\n",
       "      <td>Yes</td>\n",
       "      <td>2308.893236</td>\n",
       "      <td>19110.266410</td>\n",
       "    </tr>\n",
       "    <tr>\n",
       "      <th>2929</th>\n",
       "      <td>2930</td>\n",
       "      <td>Yes</td>\n",
       "      <td>Yes</td>\n",
       "      <td>2387.314867</td>\n",
       "      <td>28296.914720</td>\n",
       "    </tr>\n",
       "    <tr>\n",
       "      <th>3162</th>\n",
       "      <td>3163</td>\n",
       "      <td>Yes</td>\n",
       "      <td>Yes</td>\n",
       "      <td>2415.316994</td>\n",
       "      <td>17429.503370</td>\n",
       "    </tr>\n",
       "    <tr>\n",
       "      <th>3189</th>\n",
       "      <td>3190</td>\n",
       "      <td>Yes</td>\n",
       "      <td>No</td>\n",
       "      <td>2228.472283</td>\n",
       "      <td>27438.348990</td>\n",
       "    </tr>\n",
       "    <tr>\n",
       "      <th>3702</th>\n",
       "      <td>3703</td>\n",
       "      <td>No</td>\n",
       "      <td>Yes</td>\n",
       "      <td>2370.463612</td>\n",
       "      <td>24251.958720</td>\n",
       "    </tr>\n",
       "    <tr>\n",
       "      <th>3855</th>\n",
       "      <td>3856</td>\n",
       "      <td>Yes</td>\n",
       "      <td>Yes</td>\n",
       "      <td>2321.882221</td>\n",
       "      <td>21331.314780</td>\n",
       "    </tr>\n",
       "    <tr>\n",
       "      <th>3913</th>\n",
       "      <td>3914</td>\n",
       "      <td>Yes</td>\n",
       "      <td>Yes</td>\n",
       "      <td>2334.123559</td>\n",
       "      <td>19335.889290</td>\n",
       "    </tr>\n",
       "    <tr>\n",
       "      <th>3976</th>\n",
       "      <td>3977</td>\n",
       "      <td>No</td>\n",
       "      <td>Yes</td>\n",
       "      <td>2388.174009</td>\n",
       "      <td>7832.135644</td>\n",
       "    </tr>\n",
       "    <tr>\n",
       "      <th>4060</th>\n",
       "      <td>4061</td>\n",
       "      <td>Yes</td>\n",
       "      <td>Yes</td>\n",
       "      <td>2216.017669</td>\n",
       "      <td>20911.695640</td>\n",
       "    </tr>\n",
       "    <tr>\n",
       "      <th>4231</th>\n",
       "      <td>4232</td>\n",
       "      <td>Yes</td>\n",
       "      <td>Yes</td>\n",
       "      <td>2291.617688</td>\n",
       "      <td>20837.209450</td>\n",
       "    </tr>\n",
       "    <tr>\n",
       "      <th>4831</th>\n",
       "      <td>4832</td>\n",
       "      <td>No</td>\n",
       "      <td>Yes</td>\n",
       "      <td>2216.329753</td>\n",
       "      <td>24737.081760</td>\n",
       "    </tr>\n",
       "    <tr>\n",
       "      <th>5461</th>\n",
       "      <td>5462</td>\n",
       "      <td>Yes</td>\n",
       "      <td>Yes</td>\n",
       "      <td>2247.421889</td>\n",
       "      <td>17926.723010</td>\n",
       "    </tr>\n",
       "    <tr>\n",
       "      <th>6075</th>\n",
       "      <td>6076</td>\n",
       "      <td>Yes</td>\n",
       "      <td>No</td>\n",
       "      <td>2413.319449</td>\n",
       "      <td>38540.572710</td>\n",
       "    </tr>\n",
       "    <tr>\n",
       "      <th>6334</th>\n",
       "      <td>6335</td>\n",
       "      <td>Yes</td>\n",
       "      <td>No</td>\n",
       "      <td>2343.797513</td>\n",
       "      <td>51095.293930</td>\n",
       "    </tr>\n",
       "    <tr>\n",
       "      <th>6882</th>\n",
       "      <td>6883</td>\n",
       "      <td>Yes</td>\n",
       "      <td>Yes</td>\n",
       "      <td>2287.173842</td>\n",
       "      <td>18692.144310</td>\n",
       "    </tr>\n",
       "    <tr>\n",
       "      <th>7437</th>\n",
       "      <td>7438</td>\n",
       "      <td>Yes</td>\n",
       "      <td>Yes</td>\n",
       "      <td>2461.506979</td>\n",
       "      <td>11878.557040</td>\n",
       "    </tr>\n",
       "    <tr>\n",
       "      <th>7815</th>\n",
       "      <td>7816</td>\n",
       "      <td>Yes</td>\n",
       "      <td>Yes</td>\n",
       "      <td>2578.469022</td>\n",
       "      <td>25706.647770</td>\n",
       "    </tr>\n",
       "    <tr>\n",
       "      <th>8264</th>\n",
       "      <td>8265</td>\n",
       "      <td>Yes</td>\n",
       "      <td>No</td>\n",
       "      <td>2236.764215</td>\n",
       "      <td>37113.883070</td>\n",
       "    </tr>\n",
       "    <tr>\n",
       "      <th>8495</th>\n",
       "      <td>8496</td>\n",
       "      <td>Yes</td>\n",
       "      <td>Yes</td>\n",
       "      <td>2654.322576</td>\n",
       "      <td>21930.388880</td>\n",
       "    </tr>\n",
       "    <tr>\n",
       "      <th>8832</th>\n",
       "      <td>8833</td>\n",
       "      <td>Yes</td>\n",
       "      <td>Yes</td>\n",
       "      <td>2207.599054</td>\n",
       "      <td>19780.763520</td>\n",
       "    </tr>\n",
       "    <tr>\n",
       "      <th>8992</th>\n",
       "      <td>8993</td>\n",
       "      <td>Yes</td>\n",
       "      <td>Yes</td>\n",
       "      <td>2352.054949</td>\n",
       "      <td>24067.548100</td>\n",
       "    </tr>\n",
       "    <tr>\n",
       "      <th>9873</th>\n",
       "      <td>9874</td>\n",
       "      <td>No</td>\n",
       "      <td>No</td>\n",
       "      <td>2391.007739</td>\n",
       "      <td>50302.909560</td>\n",
       "    </tr>\n",
       "    <tr>\n",
       "      <th>9893</th>\n",
       "      <td>9894</td>\n",
       "      <td>Yes</td>\n",
       "      <td>No</td>\n",
       "      <td>2288.408082</td>\n",
       "      <td>52043.569050</td>\n",
       "    </tr>\n",
       "    <tr>\n",
       "      <th>9978</th>\n",
       "      <td>9979</td>\n",
       "      <td>Yes</td>\n",
       "      <td>No</td>\n",
       "      <td>2202.462395</td>\n",
       "      <td>47287.257110</td>\n",
       "    </tr>\n",
       "  </tbody>\n",
       "</table>\n",
       "</div>"
      ],
      "text/plain": [
       "       num default student      balance        income\n",
       "173    174     Yes     Yes  2205.799521  14271.492250\n",
       "1136  1137     Yes      No  2499.016750  51504.293960\n",
       "1160  1161     Yes     Yes  2502.684931  14947.519750\n",
       "1359  1360     Yes      No  2220.966201  40725.096210\n",
       "1502  1503     Yes     Yes  2332.878254  11770.234120\n",
       "1609  1610     Yes     Yes  2269.946966  18021.105950\n",
       "2096  2097     Yes     Yes  2261.848162  20030.165120\n",
       "2140  2141      No     Yes  2308.893236  19110.266410\n",
       "2929  2930     Yes     Yes  2387.314867  28296.914720\n",
       "3162  3163     Yes     Yes  2415.316994  17429.503370\n",
       "3189  3190     Yes      No  2228.472283  27438.348990\n",
       "3702  3703      No     Yes  2370.463612  24251.958720\n",
       "3855  3856     Yes     Yes  2321.882221  21331.314780\n",
       "3913  3914     Yes     Yes  2334.123559  19335.889290\n",
       "3976  3977      No     Yes  2388.174009   7832.135644\n",
       "4060  4061     Yes     Yes  2216.017669  20911.695640\n",
       "4231  4232     Yes     Yes  2291.617688  20837.209450\n",
       "4831  4832      No     Yes  2216.329753  24737.081760\n",
       "5461  5462     Yes     Yes  2247.421889  17926.723010\n",
       "6075  6076     Yes      No  2413.319449  38540.572710\n",
       "6334  6335     Yes      No  2343.797513  51095.293930\n",
       "6882  6883     Yes     Yes  2287.173842  18692.144310\n",
       "7437  7438     Yes     Yes  2461.506979  11878.557040\n",
       "7815  7816     Yes     Yes  2578.469022  25706.647770\n",
       "8264  8265     Yes      No  2236.764215  37113.883070\n",
       "8495  8496     Yes     Yes  2654.322576  21930.388880\n",
       "8832  8833     Yes     Yes  2207.599054  19780.763520\n",
       "8992  8993     Yes     Yes  2352.054949  24067.548100\n",
       "9873  9874      No      No  2391.007739  50302.909560\n",
       "9893  9894     Yes      No  2288.408082  52043.569050\n",
       "9978  9979     Yes      No  2202.462395  47287.257110"
      ]
     },
     "execution_count": 28,
     "metadata": {},
     "output_type": "execute_result"
    }
   ],
   "source": [
    "df"
   ]
  },
  {
   "cell_type": "code",
   "execution_count": 29,
   "id": "86fb74af",
   "metadata": {},
   "outputs": [
    {
     "data": {
      "text/plain": [
       "num        31\n",
       "default    31\n",
       "student    31\n",
       "balance    31\n",
       "income     31\n",
       "dtype: int64"
      ]
     },
     "execution_count": 29,
     "metadata": {},
     "output_type": "execute_result"
    }
   ],
   "source": [
    "df.count()"
   ]
  },
  {
   "cell_type": "code",
   "execution_count": 30,
   "id": "e05a8509",
   "metadata": {},
   "outputs": [
    {
     "data": {
      "text/plain": [
       "Yes    0.83871\n",
       "No     0.16129\n",
       "Name: default, dtype: float64"
      ]
     },
     "execution_count": 30,
     "metadata": {},
     "output_type": "execute_result"
    }
   ],
   "source": [
    "df['default'].value_counts(normalize=True)"
   ]
  },
  {
   "cell_type": "code",
   "execution_count": 31,
   "id": "93176204",
   "metadata": {},
   "outputs": [
    {
     "data": {
      "text/plain": [
       "default\n",
       "Yes    26\n",
       "No      5\n",
       "dtype: int64"
      ]
     },
     "execution_count": 31,
     "metadata": {},
     "output_type": "execute_result"
    }
   ],
   "source": [
    "df.value_counts('default')"
   ]
  },
  {
   "cell_type": "code",
   "execution_count": 32,
   "id": "5df276ab",
   "metadata": {},
   "outputs": [],
   "source": [
    "dd['balance']=np.where(dd['balance']>uperlimit,uperlimit,dd['balance'])"
   ]
  },
  {
   "cell_type": "code",
   "execution_count": 33,
   "id": "a75f28fb",
   "metadata": {},
   "outputs": [
    {
     "data": {
      "image/png": "[encoded data removed]",
      "text/plain": [
       "<Figure size 640x480 with 1 Axes>"
      ]
     },
     "metadata": {},
     "output_type": "display_data"
    }
   ],
   "source": [
    "sns.boxplot(y=dd['balance'])\n",
    "plt.show()"
   ]
  },
  {
   "cell_type": "code",
   "execution_count": 34,
   "id": "625ea3e1",
   "metadata": {},
   "outputs": [],
   "source": [
    "dd=pd.get_dummies(dd,drop_first=True)"
   ]
  },
  {
   "cell_type": "code",
   "execution_count": 35,
   "id": "15027539",
   "metadata": {},
   "outputs": [
    {
     "data": {
      "text/html": [
       "<div>\n",
       "<style scoped>\n",
       "    .dataframe tbody tr th:only-of-type {\n",
       "        vertical-align: middle;\n",
       "    }\n",
       "\n",
       "    .dataframe tbody tr th {\n",
       "        vertical-align: top;\n",
       "    }\n",
       "\n",
       "    .dataframe thead th {\n",
       "        text-align: right;\n",
       "    }\n",
       "</style>\n",
       "<table border=\"1\" class=\"dataframe\">\n",
       "  <thead>\n",
       "    <tr style=\"text-align: right;\">\n",
       "      <th></th>\n",
       "      <th>num</th>\n",
       "      <th>balance</th>\n",
       "      <th>income</th>\n",
       "      <th>default_Yes</th>\n",
       "      <th>student_Yes</th>\n",
       "    </tr>\n",
       "  </thead>\n",
       "  <tbody>\n",
       "    <tr>\n",
       "      <th>0</th>\n",
       "      <td>1</td>\n",
       "      <td>729.526495</td>\n",
       "      <td>44361.62507</td>\n",
       "      <td>0</td>\n",
       "      <td>0</td>\n",
       "    </tr>\n",
       "    <tr>\n",
       "      <th>1</th>\n",
       "      <td>2</td>\n",
       "      <td>817.180407</td>\n",
       "      <td>12106.13470</td>\n",
       "      <td>0</td>\n",
       "      <td>1</td>\n",
       "    </tr>\n",
       "    <tr>\n",
       "      <th>2</th>\n",
       "      <td>3</td>\n",
       "      <td>1073.549164</td>\n",
       "      <td>31767.13895</td>\n",
       "      <td>0</td>\n",
       "      <td>0</td>\n",
       "    </tr>\n",
       "    <tr>\n",
       "      <th>3</th>\n",
       "      <td>4</td>\n",
       "      <td>529.250605</td>\n",
       "      <td>35704.49394</td>\n",
       "      <td>0</td>\n",
       "      <td>0</td>\n",
       "    </tr>\n",
       "    <tr>\n",
       "      <th>4</th>\n",
       "      <td>5</td>\n",
       "      <td>785.655883</td>\n",
       "      <td>38463.49588</td>\n",
       "      <td>0</td>\n",
       "      <td>0</td>\n",
       "    </tr>\n",
       "  </tbody>\n",
       "</table>\n",
       "</div>"
      ],
      "text/plain": [
       "   num      balance       income  default_Yes  student_Yes\n",
       "0    1   729.526495  44361.62507            0            0\n",
       "1    2   817.180407  12106.13470            0            1\n",
       "2    3  1073.549164  31767.13895            0            0\n",
       "3    4   529.250605  35704.49394            0            0\n",
       "4    5   785.655883  38463.49588            0            0"
      ]
     },
     "execution_count": 35,
     "metadata": {},
     "output_type": "execute_result"
    }
   ],
   "source": [
    "dd.head()"
   ]
  },
  {
   "cell_type": "code",
   "execution_count": 36,
   "id": "5dd6bd94",
   "metadata": {},
   "outputs": [],
   "source": [
    "dd.columns=['num','balance','income','default','student']"
   ]
  },
  {
   "cell_type": "code",
   "execution_count": 37,
   "id": "80cfaa45",
   "metadata": {},
   "outputs": [
    {
     "data": {
      "text/html": [
       "<div>\n",
       "<style scoped>\n",
       "    .dataframe tbody tr th:only-of-type {\n",
       "        vertical-align: middle;\n",
       "    }\n",
       "\n",
       "    .dataframe tbody tr th {\n",
       "        vertical-align: top;\n",
       "    }\n",
       "\n",
       "    .dataframe thead th {\n",
       "        text-align: right;\n",
       "    }\n",
       "</style>\n",
       "<table border=\"1\" class=\"dataframe\">\n",
       "  <thead>\n",
       "    <tr style=\"text-align: right;\">\n",
       "      <th></th>\n",
       "      <th>num</th>\n",
       "      <th>balance</th>\n",
       "      <th>income</th>\n",
       "      <th>default</th>\n",
       "      <th>student</th>\n",
       "    </tr>\n",
       "  </thead>\n",
       "  <tbody>\n",
       "    <tr>\n",
       "      <th>0</th>\n",
       "      <td>1</td>\n",
       "      <td>729.526495</td>\n",
       "      <td>44361.62507</td>\n",
       "      <td>0</td>\n",
       "      <td>0</td>\n",
       "    </tr>\n",
       "    <tr>\n",
       "      <th>1</th>\n",
       "      <td>2</td>\n",
       "      <td>817.180407</td>\n",
       "      <td>12106.13470</td>\n",
       "      <td>0</td>\n",
       "      <td>1</td>\n",
       "    </tr>\n",
       "    <tr>\n",
       "      <th>2</th>\n",
       "      <td>3</td>\n",
       "      <td>1073.549164</td>\n",
       "      <td>31767.13895</td>\n",
       "      <td>0</td>\n",
       "      <td>0</td>\n",
       "    </tr>\n",
       "    <tr>\n",
       "      <th>3</th>\n",
       "      <td>4</td>\n",
       "      <td>529.250605</td>\n",
       "      <td>35704.49394</td>\n",
       "      <td>0</td>\n",
       "      <td>0</td>\n",
       "    </tr>\n",
       "    <tr>\n",
       "      <th>4</th>\n",
       "      <td>5</td>\n",
       "      <td>785.655883</td>\n",
       "      <td>38463.49588</td>\n",
       "      <td>0</td>\n",
       "      <td>0</td>\n",
       "    </tr>\n",
       "  </tbody>\n",
       "</table>\n",
       "</div>"
      ],
      "text/plain": [
       "   num      balance       income  default  student\n",
       "0    1   729.526495  44361.62507        0        0\n",
       "1    2   817.180407  12106.13470        0        1\n",
       "2    3  1073.549164  31767.13895        0        0\n",
       "3    4   529.250605  35704.49394        0        0\n",
       "4    5   785.655883  38463.49588        0        0"
      ]
     },
     "execution_count": 37,
     "metadata": {},
     "output_type": "execute_result"
    }
   ],
   "source": [
    "dd.head()"
   ]
  },
  {
   "cell_type": "code",
   "execution_count": 38,
   "id": "ab03040b",
   "metadata": {},
   "outputs": [],
   "source": [
    "from sklearn.model_selection import train_test_split"
   ]
  },
  {
   "cell_type": "code",
   "execution_count": 39,
   "id": "691d97f3",
   "metadata": {},
   "outputs": [],
   "source": [
    "x=dd.drop('default',axis=1)"
   ]
  },
  {
   "cell_type": "code",
   "execution_count": 40,
   "id": "90ecf07b",
   "metadata": {},
   "outputs": [],
   "source": [
    "y=dd['default']"
   ]
  },
  {
   "cell_type": "code",
   "execution_count": 41,
   "id": "a4d233de",
   "metadata": {},
   "outputs": [],
   "source": [
    "x_train,x_test,y_train,y_test=train_test_split(x,y,test_size=0.3,random_state=21,stratify= y)"
   ]
  },
  {
   "cell_type": "code",
   "execution_count": 42,
   "id": "b533c33c",
   "metadata": {},
   "outputs": [
    {
     "data": {
      "text/plain": [
       "(7000, 4)"
      ]
     },
     "execution_count": 42,
     "metadata": {},
     "output_type": "execute_result"
    }
   ],
   "source": [
    "x_train.shape"
   ]
  },
  {
   "cell_type": "code",
   "execution_count": 43,
   "id": "94076f0c",
   "metadata": {},
   "outputs": [
    {
     "data": {
      "text/plain": [
       "(3000, 4)"
      ]
     },
     "execution_count": 43,
     "metadata": {},
     "output_type": "execute_result"
    }
   ],
   "source": [
    "x_test.shape"
   ]
  },
  {
   "cell_type": "code",
   "execution_count": 44,
   "id": "d752cd18",
   "metadata": {},
   "outputs": [
    {
     "data": {
      "text/plain": [
       "0    0.97\n",
       "1    0.03\n",
       "Name: default, dtype: float64"
      ]
     },
     "execution_count": 44,
     "metadata": {},
     "output_type": "execute_result"
    }
   ],
   "source": [
    "y_train.value_counts(normalize=True).round(2)"
   ]
  },
  {
   "cell_type": "code",
   "execution_count": 45,
   "id": "4cbb7e77",
   "metadata": {},
   "outputs": [
    {
     "data": {
      "text/plain": [
       "0    0.966667\n",
       "1    0.033333\n",
       "Name: default, dtype: float64"
      ]
     },
     "execution_count": 45,
     "metadata": {},
     "output_type": "execute_result"
    }
   ],
   "source": [
    "y_test.value_counts(normalize=True)"
   ]
  },
  {
   "cell_type": "code",
   "execution_count": 46,
   "id": "541bb3c2",
   "metadata": {},
   "outputs": [],
   "source": [
    "from sklearn.datasets import make_classification"
   ]
  },
  {
   "cell_type": "code",
   "execution_count": 47,
   "id": "3dd0f0d2",
   "metadata": {},
   "outputs": [],
   "source": [
    "from imblearn.over_sampling import SMOTE"
   ]
  },
  {
   "cell_type": "code",
   "execution_count": 50,
   "id": "114bd00c",
   "metadata": {},
   "outputs": [],
   "source": [
    "sm=SMOTE(random_state=33,sampling_strategy=0.75)"
   ]
  },
  {
   "cell_type": "code",
   "execution_count": 53,
   "id": "062daa73",
   "metadata": {},
   "outputs": [],
   "source": [
    "x_res,y_res=sm.fit_resample(x_train,y_train)"
   ]
  },
  {
   "cell_type": "code",
   "execution_count": 55,
   "id": "6d7fdce9",
   "metadata": {},
   "outputs": [],
   "source": [
    "from sklearn.linear_model import LogisticRegression"
   ]
  },
  {
   "cell_type": "code",
   "execution_count": 56,
   "id": "7152af56",
   "metadata": {},
   "outputs": [],
   "source": [
    "lr = LogisticRegression()"
   ]
  },
  {
   "cell_type": "code",
   "execution_count": 57,
   "id": "24e96437",
   "metadata": {},
   "outputs": [
    {
     "data": {
      "text/plain": [
       "LogisticRegression()"
      ]
     },
     "execution_count": 57,
     "metadata": {},
     "output_type": "execute_result"
    }
   ],
   "source": [
    "lr.fit(x_res,y_res)"
   ]
  },
  {
   "cell_type": "code",
   "execution_count": 58,
   "id": "cc263cad",
   "metadata": {},
   "outputs": [],
   "source": [
    "y_test_pred=lr.predict(x_test)"
   ]
  },
  {
   "cell_type": "code",
   "execution_count": 59,
   "id": "1e71485e",
   "metadata": {},
   "outputs": [],
   "source": [
    "from sklearn.metrics import confusion_matrix,classification_report"
   ]
  },
  {
   "cell_type": "code",
   "execution_count": 60,
   "id": "0beab874",
   "metadata": {},
   "outputs": [
    {
     "data": {
      "text/plain": [
       "array([[2226,  674],\n",
       "       [  21,   79]], dtype=int64)"
      ]
     },
     "execution_count": 60,
     "metadata": {},
     "output_type": "execute_result"
    }
   ],
   "source": [
    "confusion_matrix(y_test,y_test_pred)"
   ]
  },
  {
   "cell_type": "code",
   "execution_count": 61,
   "id": "c05c2a21",
   "metadata": {},
   "outputs": [
    {
     "data": {
      "text/plain": [
       "0.7683333333333333"
      ]
     },
     "execution_count": 61,
     "metadata": {},
     "output_type": "execute_result"
    }
   ],
   "source": [
    "(2226+79)/(2226+79+674+21)"
   ]
  },
  {
   "cell_type": "code",
   "execution_count": null,
   "id": "f3b2aa07",
   "metadata": {},
   "outputs": [],
   "source": []
  }
 ],
 "metadata": {
  "kernelspec": {
   "display_name": "Python 3 (ipykernel)",
   "language": "python",
   "name": "python3"
  },
  "language_info": {
   "codemirror_mode": {
    "name": "ipython",
    "version": 3
   },
   "file_extension": ".py",
   "mimetype": "text/x-python",
   "name": "python",
   "nbconvert_exporter": "python",
   "pygments_lexer": "ipython3",
   "version": "3.9.13"
  }
 },
 "nbformat": 4,
 "nbformat_minor": 5
}
